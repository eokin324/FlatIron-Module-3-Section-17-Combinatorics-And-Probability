{
 "cells": [
  {
   "cell_type": "code",
   "execution_count": 1,
   "metadata": {},
   "outputs": [
    {
     "data": {
      "text/plain": [
       "0.08333333333333333"
      ]
     },
     "execution_count": 1,
     "metadata": {},
     "output_type": "execute_result"
    }
   ],
   "source": [
    "P_h =1/2\n",
    "  \n",
    "P_3\t= 1/6\n",
    "\n",
    "#As the events are independent \n",
    "P = P_h*P_3\n",
    "P"
   ]
  },
  {
   "cell_type": "code",
   "execution_count": 2,
   "metadata": {},
   "outputs": [
    {
     "data": {
      "text/plain": [
       "0.5120000000000001"
      ]
     },
     "execution_count": 2,
     "metadata": {},
     "output_type": "execute_result"
    }
   ],
   "source": [
    "#Probabilities\n",
    "P_subject1 = P_subject2 = P_subject3 = 8/10\n",
    "    \n",
    "# Probability that subject 1 and subject 2 and subject 3 like chocolate chip cookies\n",
    "# Remember (With replacement) makes these trials independent\n",
    "P_1_2_3 = P_subject1*P_subject2*P_subject3\n",
    "\n",
    "\n",
    "P_1_2_3"
   ]
  },
  {
   "cell_type": "code",
   "execution_count": 3,
   "metadata": {},
   "outputs": [
    {
     "data": {
      "text/plain": [
       "0.5"
      ]
     },
     "execution_count": 3,
     "metadata": {},
     "output_type": "execute_result"
    }
   ],
   "source": [
    "# P(Strawberry|Chocolate) = P(Chocolate and Strawberry) / P(Chocolate)\n",
    "\n",
    "p_strberry_given_choc = 0.35 / 0.7\n",
    "p_strberry_given_choc"
   ]
  },
  {
   "cell_type": "code",
   "execution_count": 4,
   "metadata": {},
   "outputs": [
    {
     "data": {
      "text/plain": [
       "0.004524886877828055"
      ]
     },
     "execution_count": 4,
     "metadata": {},
     "output_type": "execute_result"
    }
   ],
   "source": [
    "# Let Event A is drawing the first ace, and Event B is drawing a second ace\n",
    "\n",
    "#For the first card the chance of drawing an ace is 4 out of 52 (there are 4 aces in a deck of 52 cards):\n",
    "\n",
    "P_A = 4/52\n",
    "\n",
    "# But after removing an ace from the deck the probability of the 2nd card drawn is less likely to be a ace (only 3 of the 51 cards left are aces):\n",
    "\n",
    "P_B_given_A = 3/51\n",
    "\n",
    "#And so according to the product rule:\n",
    "\n",
    "P_A_and_B = P_A * P_B_given_A\n",
    "P_A_and_B"
   ]
  },
  {
   "cell_type": "code",
   "execution_count": 5,
   "metadata": {},
   "outputs": [
    {
     "data": {
      "text/plain": [
       "0.8559987631416203"
      ]
     },
     "execution_count": 5,
     "metadata": {},
     "output_type": "execute_result"
    }
   ],
   "source": [
    "# Let us define Ai as the event that the ith chosen unit is not defective, for i=1,2,3. \n",
    "# We are interested in P(A1∩A2∩A3). Note that\n",
    "P_A1=95/100.\n",
    "\n",
    "#Given that the first chosen item was good, the second item will be chosen from 94 good units and 5 defective units\n",
    "P_A2_given_A1=94/99\n",
    "\n",
    "# Given that the first and second chosen items were okay, the third item will be chosen from 93 good units and 5 defective units, thus\n",
    "P_A3_given_A2_A1=93/98\n",
    "\n",
    "# Accoring to chain rule\n",
    "P_A1_A2_A3=P_A1*P_A2_given_A1*P_A3_given_A2_A1\n",
    "\n",
    "P_A1_A2_A3"
   ]
  },
  {
   "cell_type": "code",
   "execution_count": 6,
   "metadata": {},
   "outputs": [
    {
     "data": {
      "text/plain": [
       "0.19999999999999998"
      ]
     },
     "execution_count": 6,
     "metadata": {},
     "output_type": "execute_result"
    }
   ],
   "source": [
    "p_B_given_A = (4/36)/(20/36) \n",
    "p_B_given_A "
   ]
  }
 ],
 "metadata": {
  "kernelspec": {
   "display_name": "Python 3",
   "language": "python",
   "name": "python3"
  },
  "language_info": {
   "codemirror_mode": {
    "name": "ipython",
    "version": 3
   },
   "file_extension": ".py",
   "mimetype": "text/x-python",
   "name": "python",
   "nbconvert_exporter": "python",
   "pygments_lexer": "ipython3",
   "version": "3.7.3"
  }
 },
 "nbformat": 4,
 "nbformat_minor": 2
}
